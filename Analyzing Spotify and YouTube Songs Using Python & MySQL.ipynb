{
 "cells": [
  {
   "cell_type": "markdown",
   "metadata": {},
   "source": [
    "# Data Analysis Using Python"
   ]
  },
  {
   "cell_type": "code",
   "execution_count": 1,
   "metadata": {},
   "outputs": [],
   "source": [
    "import pandas as pd\n",
    "import warnings\n",
    "warnings.filterwarnings(\"ignore\")\n",
    "\n",
    "#do not change the predefined function names\n",
    "\n",
    "#Task 1: Remove columns that are not needed in our analysis.\n",
    "# Remove Url_spotify, Uri, Key, Url_youtube, Description\n",
    "def Remove_columns():\n",
    "    #do not remove following line of code\n",
    "    df = pd.read_csv('Spotify_Youtuben.csv')\n",
    "    \n",
    "    #WRITE YOUR CODE HERE\n",
    "    df = df.drop(columns=[\"Url_spotify\",\"Uri\",\"Key\",\"Url_youtube\",\"Description\"])\n",
    "    #return dataframe\n",
    "    return df\n",
    "\n",
    "\n",
    "#Task 2: Check for the null values\n",
    "def no_of_null_values():\n",
    "    #Do not remove the following code statment\n",
    "    df=Remove_columns()\n",
    "    df= df.isnull().sum()\n",
    "    #WRITE YOUR CODE HERE TO CHECK THE NO OF NULL VALUES AND RETURNS THE SAME\n",
    "\n",
    "    #return sum of null values by columns\n",
    "    return df\n",
    "    \n",
    "\n",
    "#Task 3: Handle the null values replace int value with 0 and other values with NA\n",
    "def Handle_Null_values():\n",
    "    #Do not remove the following code statment\n",
    "    df=Remove_columns()\n",
    "    \n",
    "    df=df.fillna(0)\n",
    "    df=df.dropna(subset=['Title','Channel'])\n",
    "    df=df.replace('/','',regex=True)\n",
    "    \n",
    "    #df.select_dtypes(include = 'int').fillna(0, inplace = True)\n",
    "    #df.fillna(\"NA\",inplace = True)\n",
    "    #WRITE YOUR CODE HERE ACCORDING TO THE DESCRIPTION\n",
    "        \n",
    "\n",
    "    #return dataframe\n",
    "    return df\n",
    "\n",
    "#Task 4: CHECK FOR DUPLICATES AND REMOVE THEM KEEPING THE FIRST VALUE\n",
    "def drop_the_duplicates():\n",
    "    #Do not remove the following code statment\n",
    "    df=Handle_Null_values()\n",
    "    df.drop_duplicates(keep='first', inplace=True)\n",
    "    #WRITE YOUR CODE HERE\n",
    "    #return dataframe\n",
    "    return df\n",
    "    #drop_the_duplicates()\n",
    "\n",
    "#Task 5: CONVERT millisecond duration to minute for a better understanding\n",
    "def convert_milisecond_to_Minute():\n",
    "    #Do not remove the following code statment\n",
    "    df=drop_the_duplicates()\n",
    "    \n",
    "    df['Duration_ms']= pd.to_numeric(df['Duration_ms'],errors='coerce')\n",
    "    df['Duration_ms'] = df['Duration_ms'] / 60000\n",
    "    #return dataframe\n",
    "    return df\n",
    "\n",
    "#Task 6: Rename the modified column to Duration_min\n",
    "def rename_modified_column():\n",
    "    #Do not remove the following code statment\n",
    "    df=convert_milisecond_to_Minute()\n",
    "    df.rename(columns={'Duration_ms':'Duration_min'},inplace=True)\n",
    "    #WRITE YOUR CODE HERE\n",
    "\n",
    "    #return dataframe\n",
    "    return df\n",
    "\n",
    "#Task 7: Remove irrelevant 'Track' name that starts with ?\n",
    "def Irrelevant_Track_name():\n",
    "    #Do not remove the following code statment\n",
    "    df=rename_modified_column()\n",
    "    \n",
    "    #df.drop(df[df['Track'].str.startswith('?')].index, inplace=False)\n",
    "    #df = df[df['Track'].str.contains('^[^?]')]\n",
    "    #df = df.drop[df['Track'].str.startswith('^[^?]')]\n",
    "    df = df[~df['Track'].str.startswith('?')|df['Track'].isnull()]\n",
    "    #WRITE YOUR CODE HERE\n",
    "    \n",
    "    #return dataframe\n",
    "    return df\n",
    "\n",
    "#Task 8: Calculate the Energy to Liveness ratio for each track and store it in columns 'EnergyLiveness'\n",
    "def Energy_to_liveness_Ratio():\n",
    "    #Do not remove the following code statment\n",
    "    df=Irrelevant_Track_name()\n",
    "    \n",
    "    df['EnergyLiveness'] = df['Energy'] / df['Liveness']\n",
    "    #WRITE YOUR CODE HERE\n",
    "    #return dataframe\n",
    "    return df\n",
    "\n",
    "#Task 9: change the datatype of 'views' to float for further use\n",
    "def change_the_datatype():\n",
    "    #Do not remove the following code statment\n",
    "    df=Energy_to_liveness_Ratio()\n",
    "    df['Views'] = df['Views'].astype(float)\n",
    "    #WRITE YOUR CODE HERE\n",
    "\n",
    "    #return dataframe\n",
    "    return df\n",
    "\n",
    "#Task 10: compare the views and stream columns to infer\n",
    "# that the song track was more played on which platform, youtube or Spotify.\n",
    "# Create a column named most_playedon which will have two values.\n",
    "# Spotify and Youtube,If a song track is most played on youtube then\n",
    "# the most_played on column will have youtube as the value for that particular song\n",
    "def compare_the_views():\n",
    "    #Do not remove the following code statment\n",
    "    df=change_the_datatype()\n",
    "    df['Stream'] = df['Stream'].astype(float)\n",
    "    \n",
    "    df['most_playedon'] = df.apply(lambda x: 'Spotify' if x['Stream'] > x['Views'] else 'Youtube', axis=1)\n",
    "    df['most_playedon']=df['most_playedon'].str.title()\n",
    "    #WRITE YOUR CODE HERE\n",
    "    \n",
    "    return df\n",
    "  \n",
    "\n",
    "#Task 11: export the cleaned dataset to CSV to \"cleaned_dataset.csv\"\n",
    "def export_the_cleaned_dataset():\n",
    "    #Do not remove the following code statment\n",
    "    df=compare_the_views()\n",
    "    df.to_csv(\"cleaned_dataset.csv\",index=False)\n",
    "    \n",
    "    #WRITE YOUR CODE HERE\n",
    "    #create csv file \"cleaned_dataset.csv\" using dataframe\n",
    "    \n",
    "\n",
    "\n",
    "#TASK 12\n",
    "#follow the instruction in the Task 13 description and complete the task as per it.\n",
    "\n",
    "#check if mysql table is created using \"cleaned_dataset.csv\"\n",
    "#Use this final dataset and upload it on the provided database for performing analysis in  MySQL\n",
    "#To run this task click on the terminal and click on the run projec"
   ]
  },
  {
   "cell_type": "markdown",
   "metadata": {},
   "source": [
    "# Business Problem solved using SQL"
   ]
  },
  {
   "cell_type": "markdown",
   "metadata": {},
   "source": [
    "**Which is the most viewed song track on youtube?**"
   ]
  },
  {
   "cell_type": "markdown",
   "metadata": {},
   "source": [
    "SELECT  Track, Views\n",
    "FROM cleaned_dataset\n",
    "ORDER BY Views DESC\n",
    "LIMIT 1;"
   ]
  },
  {
   "cell_type": "markdown",
   "metadata": {},
   "source": [
    "Total Records Fetched: 1\n",
    "    You will see maximum 50 records in your result\n",
    "    Headers: \n",
    "    Track, Views, \n",
    "    \n",
    "    Values:\n",
    "    Despacito, 8079649362,"
   ]
  },
  {
   "cell_type": "markdown",
   "metadata": {},
   "source": [
    "**Which Song track is streamed most on Spotify?**"
   ]
  },
  {
   "cell_type": "code",
   "execution_count": null,
   "metadata": {},
   "outputs": [],
   "source": [
    "SELECT Track, Stream\n",
    "FROM cleaned_dataset\n",
    "ORDER BY Stream DESC\n",
    "LIMIT 1"
   ]
  },
  {
   "cell_type": "markdown",
   "metadata": {},
   "source": [
    "Total Records Fetched: 1\n",
    "    You will see maximum 50 records in your result\n",
    "    Headers: \n",
    "    Track, Stream, \n",
    "    \n",
    "    Values:\n",
    "    Blinding Lights, 3386520288,"
   ]
  },
  {
   "cell_type": "markdown",
   "metadata": {},
   "source": [
    "**EnergyLiveness ratio is one of the popular ways to measure the quality of the song, which are the top 5 songs that have the highest energyliveness ratio**"
   ]
  },
  {
   "cell_type": "code",
   "execution_count": null,
   "metadata": {},
   "outputs": [],
   "source": [
    "SELECT Track, (EnergyLiveness) AS EnergyLivenessRatio\n",
    "FROM cleaned_dataset\n",
    "ORDER BY EnergyLivenessRatio DESC\n",
    "LIMIT 5"
   ]
  },
  {
   "cell_type": "markdown",
   "metadata": {},
   "source": [
    "***Your Output: \n",
    "    Total Records Fetched: 5\n",
    "    You will see maximum 50 records in your result\n",
    "    Headers: \n",
    "    Track, EnergyLivenessRatio, \n",
    "    \n",
    "    Values:\n",
    "    These Words, nan, \n",
    "    Rain in the Early Morning, nan, \n",
    "    Dakota, 9.989258861, \n",
    "    2 Baddies, 9.989154013, \n",
    "    Over The Hills And Far Away, 9.989082969"
   ]
  },
  {
   "cell_type": "markdown",
   "metadata": {},
   "source": [
    "**let us assume a situation where an artist named Black Eyed Peas wants to analyze his songs. The artist wants to know which platform is capable of keeping his song track more engaged. To check this he assigns you this task and wants you to report to him where his song tracks are more played on. compare the platforms.**"
   ]
  },
  {
   "cell_type": "code",
   "execution_count": null,
   "metadata": {},
   "outputs": [],
   "source": [
    "SELECT COUNT(Track) AS TotalTrack, most_playedon\n",
    "FROM cleaned_dataset\n",
    "WHERE Artist = \"Black Eyed Peas\"\n",
    "GROUP BY most_playedon\n",
    "ORDER BY TotalTrack DESC;"
   ]
  },
  {
   "cell_type": "raw",
   "metadata": {},
   "source": [
    "***Your Output: \n",
    "    Total Records Fetched: 2\n",
    "    You will see maximum 50 records in your result\n",
    "    Headers: \n",
    "    TotalTrack, most_playedon, \n",
    "    \n",
    "    Values:\n",
    "    6, Youtube, \n",
    "    4, Spotify,"
   ]
  },
  {
   "cell_type": "markdown",
   "metadata": {},
   "source": [
    "**Gorillaz wants to know their most liked song on youtube. Report to them with their most liked song along with the Energy and Tempo of the song.**"
   ]
  },
  {
   "cell_type": "code",
   "execution_count": null,
   "metadata": {},
   "outputs": [],
   "source": [
    "SELECT Track, Energy, Tempo, Likes\n",
    "FROM cleaned_dataset\n",
    "WHERE Artist = 'Gorillaz'\n",
    "ORDER BY Likes DESC\n",
    "LIMIT 1;"
   ]
  },
  {
   "cell_type": "markdown",
   "metadata": {},
   "source": [
    "***Your Output: \n",
    "    Total Records Fetched: 1\n",
    "    You will see maximum 50 records in your result\n",
    "    Headers: \n",
    "    Track, Energy, Tempo, Likes, \n",
    "    \n",
    "    Values:\n",
    "    Feel Good Inc., 0.705000, 138.559, 6220896,"
   ]
  },
  {
   "cell_type": "markdown",
   "metadata": {},
   "source": [
    "**Which Album types are more prominent on Spotify?**"
   ]
  },
  {
   "cell_type": "code",
   "execution_count": null,
   "metadata": {},
   "outputs": [],
   "source": [
    "SELECT\n",
    "Album_type, count(Album_type)\n",
    "from cleaned_dataset\n",
    "GROUP BY Album_type ORDER BY count(Album_type) DESC;"
   ]
  },
  {
   "cell_type": "markdown",
   "metadata": {},
   "source": [
    "***Your Output: \n",
    "    Total Records Fetched: 3\n",
    "    You will see maximum 50 records in your result\n",
    "    Headers: \n",
    "    Album_type, count(Album_type), \n",
    "    \n",
    "    Values:\n",
    "    album, 14834, \n",
    "    single, 4973, \n",
    "    compilation, 787,"
   ]
  },
  {
   "cell_type": "markdown",
   "metadata": {},
   "source": [
    "**Spotify's most loved song tracks are to be declared soon. Help Spotify choose the top 5 most streamed+youtube viewed song track**"
   ]
  },
  {
   "cell_type": "code",
   "execution_count": null,
   "metadata": {},
   "outputs": [],
   "source": [
    "SELECT Track, (Stream + Views) AS Total\n",
    "FROM cleaned_dataset\n",
    "GROUP BY Track\n",
    "ORDER BY Total DESC\n",
    "LIMIT 5;\n"
   ]
  },
  {
   "cell_type": "raw",
   "metadata": {},
   "source": [
    "***Your Output: \n",
    "    Total Records Fetched: 5\n",
    "    You will see maximum 50 records in your result\n",
    "    Headers: \n",
    "    Track, Total, \n",
    "    \n",
    "    Values:\n",
    "    Despacito, 9586245178, \n",
    "    Shape of You, 9270403680, \n",
    "    See You Again (feat. Charlie Puth), 7295051701, \n",
    "    Uptown Funk (feat. Bruno Mars), 6474835954, \n",
    "    Thinking out Loud, 5701490245, \n",
    "    "
   ]
  },
  {
   "cell_type": "code",
   "execution_count": null,
   "metadata": {},
   "outputs": [],
   "source": []
  }
 ],
 "metadata": {
  "kernelspec": {
   "display_name": "Python 3",
   "language": "python",
   "name": "python3"
  },
  "language_info": {
   "codemirror_mode": {
    "name": "ipython",
    "version": 3
   },
   "file_extension": ".py",
   "mimetype": "text/x-python",
   "name": "python",
   "nbconvert_exporter": "python",
   "pygments_lexer": "ipython3",
   "version": "3.8.3"
  }
 },
 "nbformat": 4,
 "nbformat_minor": 4
}
